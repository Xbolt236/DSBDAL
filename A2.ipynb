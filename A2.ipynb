{
 "cells": [
  {
   "cell_type": "code",
   "execution_count": 2,
   "id": "468334f0-1b1c-48cb-80d4-64418190bac9",
   "metadata": {
    "tags": []
   },
   "outputs": [],
   "source": [
    "import pandas as pd\n",
    "import opendatasets as od\n",
    "import matplotlib.pylab as plt\n",
    "import numpy as np"
   ]
  },
  {
   "cell_type": "code",
   "execution_count": 3,
   "id": "c4a20c91-f18f-4dd7-abb0-4c7d988655a8",
   "metadata": {
    "tags": []
   },
   "outputs": [
    {
     "name": "stdout",
     "output_type": "stream",
     "text": [
      "Downloading student-semester-result.zip to .\\student-semester-result\n"
     ]
    },
    {
     "name": "stderr",
     "output_type": "stream",
     "text": [
      "100%|██████████| 2.41k/2.41k [00:00<00:00, 158kB/s]"
     ]
    },
    {
     "name": "stdout",
     "output_type": "stream",
     "text": [
      "\n"
     ]
    },
    {
     "name": "stderr",
     "output_type": "stream",
     "text": [
      "\n"
     ]
    }
   ],
   "source": [
    "od.download('https://www.kaggle.com/datasets/sankha1998/student-semester-result')"
   ]
  },
  {
   "cell_type": "code",
   "execution_count": 4,
   "id": "1656a9f4-53a1-479f-8985-3e4849309bb0",
   "metadata": {
    "tags": []
   },
   "outputs": [],
   "source": [
    "df = pd.read_csv(\"data.csv\")"
   ]
  },
  {
   "cell_type": "code",
   "execution_count": 5,
   "id": "796817c5-c067-49e1-b9f0-59d3cd102dc6",
   "metadata": {
    "tags": []
   },
   "outputs": [
    {
     "name": "stdout",
     "output_type": "stream",
     "text": [
      "      1st   2nd   3rd   4th   5th  College Code  Gender     Roll  Roll no.  \\\n",
      "0    8.11  7.68  7.11  7.43  8.18           115  Female      NaN   17020.0   \n",
      "1    6.48  5.90  4.15  4.29  4.96           115    Male      NaN   17021.0   \n",
      "2    8.41  8.24  7.52  8.25  7.75           115  Female      NaN   17022.0   \n",
      "3    7.33  6.83  6.33  6.79  6.89           115    Male      NaN   17023.0   \n",
      "4    7.89  7.34  7.22  7.32  7.46           115    Male      NaN   17024.0   \n",
      "..    ...   ...   ...   ...   ...           ...     ...      ...       ...   \n",
      "173  7.48  7.55  7.67  7.39  8.65           241       F  17048.0       NaN   \n",
      "174  7.30  6.41  6.59  7.11  7.38           241       M  17049.0       NaN   \n",
      "175  6.30  6.28  5.89  5.71  6.50           241       M  17050.0       NaN   \n",
      "176  7.04  7.10  6.81  7.00  6.92           241       M  17051.0       NaN   \n",
      "177  6.70  6.81  6.52  5.39  7.00           241       M  17052.0       NaN   \n",
      "\n",
      "     Subject Code  \n",
      "0              16  \n",
      "1              16  \n",
      "2              16  \n",
      "3              16  \n",
      "4              16  \n",
      "..            ...  \n",
      "173            28  \n",
      "174            28  \n",
      "175            28  \n",
      "176            28  \n",
      "177            28  \n",
      "\n",
      "[178 rows x 10 columns]\n"
     ]
    }
   ],
   "source": [
    "print(df)"
   ]
  },
  {
   "cell_type": "code",
   "execution_count": 6,
   "id": "4b50868b-974b-4097-b899-8a4c0c5c09f8",
   "metadata": {
    "tags": []
   },
   "outputs": [
    {
     "name": "stdout",
     "output_type": "stream",
     "text": [
      "<class 'pandas.core.frame.DataFrame'>\n",
      "RangeIndex: 178 entries, 0 to 177\n",
      "Data columns (total 10 columns):\n",
      " #   Column        Non-Null Count  Dtype  \n",
      "---  ------        --------------  -----  \n",
      " 0   1st           176 non-null    float64\n",
      " 1   2nd           174 non-null    float64\n",
      " 2   3rd           176 non-null    float64\n",
      " 3   4th           173 non-null    float64\n",
      " 4   5th           172 non-null    float64\n",
      " 5   College Code  178 non-null    int64  \n",
      " 6   Gender        177 non-null    object \n",
      " 7   Roll          132 non-null    float64\n",
      " 8   Roll no.      46 non-null     float64\n",
      " 9   Subject Code  178 non-null    int64  \n",
      "dtypes: float64(7), int64(2), object(1)\n",
      "memory usage: 14.0+ KB\n"
     ]
    }
   ],
   "source": [
    "df.info()"
   ]
  },
  {
   "cell_type": "code",
   "execution_count": 7,
   "id": "1846a0f3-ef5a-471c-9144-388306b7dfbb",
   "metadata": {
    "tags": []
   },
   "outputs": [
    {
     "data": {
      "text/plain": [
       "1st               2\n",
       "2nd               4\n",
       "3rd               2\n",
       "4th               5\n",
       "5th               6\n",
       "College Code      0\n",
       "Gender            1\n",
       "Roll             46\n",
       "Roll no.        132\n",
       "Subject Code      0\n",
       "dtype: int64"
      ]
     },
     "execution_count": 7,
     "metadata": {},
     "output_type": "execute_result"
    }
   ],
   "source": [
    "df.isnull().sum()"
   ]
  },
  {
   "cell_type": "code",
   "execution_count": 12,
   "id": "a5416397-6517-444d-9cfb-8dd5f53446b0",
   "metadata": {
    "tags": []
   },
   "outputs": [],
   "source": [
    "avg_1st_Marks = df['1st'].astype(\"float64\").mean(axis = 0)\n",
    "avg_2nd_Marks = df['2nd'].astype(\"float64\").mean(axis = 0)\n",
    "avg_3rd_Marks = df['3rd'].astype(\"float64\").mean(axis = 0)\n",
    "avg_4th_Marks = df['4th'].astype(\"float64\").mean(axis = 0)\n",
    "avg_5th_Marks = df['5th'].astype(\"float64\").mean(axis = 0)"
   ]
  },
  {
   "cell_type": "code",
   "execution_count": 13,
   "id": "0726acdd-5874-423d-9c82-3a2fcc94afa4",
   "metadata": {
    "tags": []
   },
   "outputs": [
    {
     "name": "stdout",
     "output_type": "stream",
     "text": [
      "Average amrks of 1st paper: 7.038863636363637\n",
      "Average amrks of 2nd paper: 6.943390804597701\n",
      "Average amrks of 3rd paper: 6.622499999999999\n",
      "Average amrks of 4th paper: 7.027745664739885\n",
      "Average amrks of 5th paper: 7.432558139534884\n"
     ]
    }
   ],
   "source": [
    "print(\"Average amrks of 1st paper:\",avg_1st_Marks)\n",
    "print(\"Average amrks of 2nd paper:\",avg_2nd_Marks)\n",
    "print(\"Average amrks of 3rd paper:\",avg_3rd_Marks)\n",
    "print(\"Average amrks of 4th paper:\",avg_4th_Marks)\n",
    "print(\"Average amrks of 5th paper:\",avg_5th_Marks)"
   ]
  },
  {
   "cell_type": "code",
   "execution_count": 14,
   "id": "3e07b51d-d774-426a-b1b8-10922ebe6fc3",
   "metadata": {
    "tags": []
   },
   "outputs": [],
   "source": [
    "df['1st'].replace(np.nan, avg_1st_Marks, inplace = True)\n",
    "df['2nd'].replace(np.nan, avg_2nd_Marks, inplace = True)\n",
    "df['3rd'].replace(np.nan, avg_3rd_Marks, inplace = True)\n",
    "df['4th'].replace(np.nan, avg_4th_Marks, inplace = True)\n",
    "df['5th'].replace(np.nan, avg_5th_Marks, inplace = True)"
   ]
  },
  {
   "cell_type": "code",
   "execution_count": 15,
   "id": "2c11d520-0ce8-4710-8517-5659ef0eff3e",
   "metadata": {
    "tags": []
   },
   "outputs": [
    {
     "data": {
      "text/plain": [
       "1st               0\n",
       "2nd               0\n",
       "3rd               0\n",
       "4th               0\n",
       "5th               0\n",
       "College Code      0\n",
       "Gender            1\n",
       "Roll             46\n",
       "Roll no.        132\n",
       "Subject Code      0\n",
       "dtype: int64"
      ]
     },
     "execution_count": 15,
     "metadata": {},
     "output_type": "execute_result"
    }
   ],
   "source": [
    "df.isnull().sum()"
   ]
  },
  {
   "cell_type": "code",
   "execution_count": 16,
   "id": "c6864892-6391-4e3c-8c9d-c7d545d5696b",
   "metadata": {
    "tags": []
   },
   "outputs": [],
   "source": [
    "max_1st = df['1st'].max()\n",
    "max_2nd = df['2nd'].max()\n",
    "max_3rd = df['3rd'].max()\n",
    "max_4th = df['4th'].max()\n",
    "max_5th = df['5th'].max()"
   ]
  },
  {
   "cell_type": "code",
   "execution_count": 17,
   "id": "184ce11e-8ebf-44dd-9575-3a77fbad24f8",
   "metadata": {
    "tags": []
   },
   "outputs": [
    {
     "name": "stdout",
     "output_type": "stream",
     "text": [
      "9.15 9.21 9.59 9.31 9.46\n"
     ]
    }
   ],
   "source": [
    "print(max_1st, max_2nd, max_3rd, max_4th, max_5th)"
   ]
  },
  {
   "cell_type": "code",
   "execution_count": 18,
   "id": "762d9359-a514-4263-97e1-7a18536575c2",
   "metadata": {
    "tags": []
   },
   "outputs": [],
   "source": [
    "cgpa_columns = ['1st','2nd','3rd', '4th', '5th']\n",
    "max_values = [max_1st, max_2nd, max_3rd, max_4th, max_5th]"
   ]
  },
  {
   "cell_type": "code",
   "execution_count": 21,
   "id": "f196881b-6193-4892-9adc-aff83bc80550",
   "metadata": {
    "tags": []
   },
   "outputs": [],
   "source": [
    "for col, max_value in zip(cgpa_columns, max_values):\n",
    "    df[col + '_Percentage'] = (df[col] / max_value) * 100 "
   ]
  },
  {
   "cell_type": "raw",
   "id": "bcb91c44-c72f-4583-9583-d72dfcd370a1",
   "metadata": {},
   "source": [
    "print(df)"
   ]
  },
  {
   "cell_type": "code",
   "execution_count": null,
   "id": "09d774d4-3283-4a4a-b87e-91830cf0dcb5",
   "metadata": {},
   "outputs": [],
   "source": []
  }
 ],
 "metadata": {
  "kernelspec": {
   "display_name": "Python 3 (ipykernel)",
   "language": "python",
   "name": "python3"
  },
  "language_info": {
   "codemirror_mode": {
    "name": "ipython",
    "version": 3
   },
   "file_extension": ".py",
   "mimetype": "text/x-python",
   "name": "python",
   "nbconvert_exporter": "python",
   "pygments_lexer": "ipython3",
   "version": "3.11.5"
  }
 },
 "nbformat": 4,
 "nbformat_minor": 5
}
