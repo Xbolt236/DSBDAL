import pandas as pd
import numpy as np
import matplotlib.pyplot as pit
dataset = pd.read_csv('Downloads/Social_Network_Ads.csv') 
x=dataset.iloc[:,[2,3]].values 
y=dataset.iloc[:,4].values 
from sklearn.model_selection import train_test_split x_train,
  x_test, y_train, y_test = train_test_split(x, y, test_size = 0.25, random_state = 0) 
from sklearn.preprocessing import StandardScaler 
  sc = StandardScaler() 
  x_train = sc.fit_transform(x_train)
  x_test = sc.transform(x_test) 
from sklearn.linear_model import LogisticRegression 
  log_reg = LogisticRegression(random_state = 0) 
  log_reg.fit(x_train, y_train) 
  y_pred = log_reg.predict(x_test) 
from sklearn.metrics import confusion_matrix 
  cm = confusion_matrix(y_test, y_pred) print(cm) 
from sklearn.metrics import confusion_matrix, accuracy_score, precision_score, recall_score 
  accuracy = accuracy_score(y_test, y_pred) 
  error_rate = 1 - accuracy 
  precision = precision_score(y_test, y_pred) 
  recall = recall_score(y_test, y_pred) 
print('Accuracy:', accuracy) 
print('Error Rate:', error_rate) 
print('Precision:', precision) 
print('Recall:', recall) 
